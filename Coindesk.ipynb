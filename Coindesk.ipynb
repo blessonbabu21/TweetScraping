{
 "cells": [
  {
   "cell_type": "markdown",
   "metadata": {},
   "source": [
    "# Coindesk\n",
    "### This code will open the Coindesk csv file, do cleaning activities such as removing punctuations, removing duplications etc. And visualize the data¶\n"
   ]
  },
  {
   "cell_type": "code",
   "execution_count": 1,
   "metadata": {},
   "outputs": [],
   "source": [
    "import pandas as pd\n",
    "import string\n",
    "import os\n",
    "import matplotlib.pyplot as plt"
   ]
  },
  {
   "cell_type": "markdown",
   "metadata": {},
   "source": [
    "### Read the Coindesk.csv"
   ]
  },
  {
   "cell_type": "code",
   "execution_count": 4,
   "metadata": {},
   "outputs": [
    {
     "data": {
      "text/html": [
       "<div>\n",
       "<style scoped>\n",
       "    .dataframe tbody tr th:only-of-type {\n",
       "        vertical-align: middle;\n",
       "    }\n",
       "\n",
       "    .dataframe tbody tr th {\n",
       "        vertical-align: top;\n",
       "    }\n",
       "\n",
       "    .dataframe thead th {\n",
       "        text-align: right;\n",
       "    }\n",
       "</style>\n",
       "<table border=\"1\" class=\"dataframe\">\n",
       "  <thead>\n",
       "    <tr style=\"text-align: right;\">\n",
       "      <th></th>\n",
       "      <th>Tweet_ID</th>\n",
       "      <th>Time_of_Tweet</th>\n",
       "      <th>User_ID</th>\n",
       "      <th>Tweet_Text</th>\n",
       "    </tr>\n",
       "  </thead>\n",
       "  <tbody>\n",
       "    <tr>\n",
       "      <th>0</th>\n",
       "      <td>1367565531176448003</td>\n",
       "      <td>2021-03-04 20:00:05</td>\n",
       "      <td>b'BTCticker'</td>\n",
       "      <td>One Bitcoin now worth $48051.349. Market Cap $...</td>\n",
       "    </tr>\n",
       "    <tr>\n",
       "      <th>1</th>\n",
       "      <td>1367535327557152769</td>\n",
       "      <td>2021-03-04 18:00:04</td>\n",
       "      <td>b'BTCticker'</td>\n",
       "      <td>One Bitcoin now worth $48431.181. Market Cap $...</td>\n",
       "    </tr>\n",
       "    <tr>\n",
       "      <th>2</th>\n",
       "      <td>1367505131349176321</td>\n",
       "      <td>2021-03-04 16:00:04</td>\n",
       "      <td>b'BTCticker'</td>\n",
       "      <td>One Bitcoin now worth $49633.979. Market Cap $...</td>\n",
       "    </tr>\n",
       "    <tr>\n",
       "      <th>3</th>\n",
       "      <td>1367479922680164357</td>\n",
       "      <td>2021-03-04 14:19:54</td>\n",
       "      <td>b'MarkCrypto23'</td>\n",
       "      <td>Larsen's attorneys said the SEC failed to show...</td>\n",
       "    </tr>\n",
       "    <tr>\n",
       "      <th>4</th>\n",
       "      <td>1367474933593473024</td>\n",
       "      <td>2021-03-04 14:00:05</td>\n",
       "      <td>b'BTCticker'</td>\n",
       "      <td>One Bitcoin now worth $49576.571. Market Cap $...</td>\n",
       "    </tr>\n",
       "    <tr>\n",
       "      <th>...</th>\n",
       "      <td>...</td>\n",
       "      <td>...</td>\n",
       "      <td>...</td>\n",
       "      <td>...</td>\n",
       "    </tr>\n",
       "    <tr>\n",
       "      <th>187</th>\n",
       "      <td>1364817468267585536</td>\n",
       "      <td>2021-02-25 06:00:16</td>\n",
       "      <td>b'SasanSeyedi'</td>\n",
       "      <td>- @elonmusk says #btc is too high - btc has a ...</td>\n",
       "    </tr>\n",
       "    <tr>\n",
       "      <th>188</th>\n",
       "      <td>1364817423342444545</td>\n",
       "      <td>2021-02-25 06:00:05</td>\n",
       "      <td>b'BTCticker'</td>\n",
       "      <td>One Bitcoin now worth $50462.331. Market Cap $...</td>\n",
       "    </tr>\n",
       "    <tr>\n",
       "      <th>189</th>\n",
       "      <td>1364787220297773062</td>\n",
       "      <td>2021-02-25 04:00:04</td>\n",
       "      <td>b'BTCticker'</td>\n",
       "      <td>One Bitcoin now worth $50244.679. Market Cap $...</td>\n",
       "    </tr>\n",
       "    <tr>\n",
       "      <th>190</th>\n",
       "      <td>1364757023326355458</td>\n",
       "      <td>2021-02-25 02:00:04</td>\n",
       "      <td>b'BTCticker'</td>\n",
       "      <td>One Bitcoin now worth $50577.585. Market Cap $...</td>\n",
       "    </tr>\n",
       "    <tr>\n",
       "      <th>191</th>\n",
       "      <td>1364726824782209030</td>\n",
       "      <td>2021-02-25 00:00:05</td>\n",
       "      <td>b'BTCticker'</td>\n",
       "      <td>One Bitcoin now worth $49722.794. Market Cap $...</td>\n",
       "    </tr>\n",
       "  </tbody>\n",
       "</table>\n",
       "<p>192 rows × 4 columns</p>\n",
       "</div>"
      ],
      "text/plain": [
       "                Tweet_ID        Time_of_Tweet          User_ID  \\\n",
       "0    1367565531176448003  2021-03-04 20:00:05     b'BTCticker'   \n",
       "1    1367535327557152769  2021-03-04 18:00:04     b'BTCticker'   \n",
       "2    1367505131349176321  2021-03-04 16:00:04     b'BTCticker'   \n",
       "3    1367479922680164357  2021-03-04 14:19:54  b'MarkCrypto23'   \n",
       "4    1367474933593473024  2021-03-04 14:00:05     b'BTCticker'   \n",
       "..                   ...                  ...              ...   \n",
       "187  1364817468267585536  2021-02-25 06:00:16   b'SasanSeyedi'   \n",
       "188  1364817423342444545  2021-02-25 06:00:05     b'BTCticker'   \n",
       "189  1364787220297773062  2021-02-25 04:00:04     b'BTCticker'   \n",
       "190  1364757023326355458  2021-02-25 02:00:04     b'BTCticker'   \n",
       "191  1364726824782209030  2021-02-25 00:00:05     b'BTCticker'   \n",
       "\n",
       "                                            Tweet_Text  \n",
       "0    One Bitcoin now worth $48051.349. Market Cap $...  \n",
       "1    One Bitcoin now worth $48431.181. Market Cap $...  \n",
       "2    One Bitcoin now worth $49633.979. Market Cap $...  \n",
       "3    Larsen's attorneys said the SEC failed to show...  \n",
       "4    One Bitcoin now worth $49576.571. Market Cap $...  \n",
       "..                                                 ...  \n",
       "187  - @elonmusk says #btc is too high - btc has a ...  \n",
       "188  One Bitcoin now worth $50462.331. Market Cap $...  \n",
       "189  One Bitcoin now worth $50244.679. Market Cap $...  \n",
       "190  One Bitcoin now worth $50577.585. Market Cap $...  \n",
       "191  One Bitcoin now worth $49722.794. Market Cap $...  \n",
       "\n",
       "[192 rows x 4 columns]"
      ]
     },
     "execution_count": 4,
     "metadata": {},
     "output_type": "execute_result"
    }
   ],
   "source": [
    "dataset = pd.read_csv(r\"Coindesk.csv\")\n",
    "dataset"
   ]
  },
  {
   "cell_type": "markdown",
   "metadata": {},
   "source": [
    "### Remove Punctuations"
   ]
  },
  {
   "cell_type": "code",
   "execution_count": 3,
   "metadata": {},
   "outputs": [
    {
     "data": {
      "text/html": [
       "<div>\n",
       "<style scoped>\n",
       "    .dataframe tbody tr th:only-of-type {\n",
       "        vertical-align: middle;\n",
       "    }\n",
       "\n",
       "    .dataframe tbody tr th {\n",
       "        vertical-align: top;\n",
       "    }\n",
       "\n",
       "    .dataframe thead th {\n",
       "        text-align: right;\n",
       "    }\n",
       "</style>\n",
       "<table border=\"1\" class=\"dataframe\">\n",
       "  <thead>\n",
       "    <tr style=\"text-align: right;\">\n",
       "      <th></th>\n",
       "      <th>Tweet_ID</th>\n",
       "      <th>Time_of_Tweet</th>\n",
       "      <th>User_ID</th>\n",
       "      <th>Tweet_Text</th>\n",
       "    </tr>\n",
       "  </thead>\n",
       "  <tbody>\n",
       "    <tr>\n",
       "      <th>0</th>\n",
       "      <td>1367565531176448003</td>\n",
       "      <td>2021-03-04 20:00:05</td>\n",
       "      <td>bBTCticker</td>\n",
       "      <td>One Bitcoin now worth 48051349 Market Cap 8959...</td>\n",
       "    </tr>\n",
       "    <tr>\n",
       "      <th>1</th>\n",
       "      <td>1367535327557152769</td>\n",
       "      <td>2021-03-04 18:00:04</td>\n",
       "      <td>bBTCticker</td>\n",
       "      <td>One Bitcoin now worth 48431181 Market Cap 9029...</td>\n",
       "    </tr>\n",
       "    <tr>\n",
       "      <th>2</th>\n",
       "      <td>1367505131349176321</td>\n",
       "      <td>2021-03-04 16:00:04</td>\n",
       "      <td>bBTCticker</td>\n",
       "      <td>One Bitcoin now worth 49633979 Market Cap 9254...</td>\n",
       "    </tr>\n",
       "    <tr>\n",
       "      <th>3</th>\n",
       "      <td>1367479922680164357</td>\n",
       "      <td>2021-03-04 14:19:54</td>\n",
       "      <td>bMarkCrypto23</td>\n",
       "      <td>Larsens attorneys said the SEC failed to show ...</td>\n",
       "    </tr>\n",
       "    <tr>\n",
       "      <th>4</th>\n",
       "      <td>1367474933593473024</td>\n",
       "      <td>2021-03-04 14:00:05</td>\n",
       "      <td>bBTCticker</td>\n",
       "      <td>One Bitcoin now worth 49576571 Market Cap 9243...</td>\n",
       "    </tr>\n",
       "  </tbody>\n",
       "</table>\n",
       "</div>"
      ],
      "text/plain": [
       "              Tweet_ID        Time_of_Tweet        User_ID  \\\n",
       "0  1367565531176448003  2021-03-04 20:00:05     bBTCticker   \n",
       "1  1367535327557152769  2021-03-04 18:00:04     bBTCticker   \n",
       "2  1367505131349176321  2021-03-04 16:00:04     bBTCticker   \n",
       "3  1367479922680164357  2021-03-04 14:19:54  bMarkCrypto23   \n",
       "4  1367474933593473024  2021-03-04 14:00:05     bBTCticker   \n",
       "\n",
       "                                          Tweet_Text  \n",
       "0  One Bitcoin now worth 48051349 Market Cap 8959...  \n",
       "1  One Bitcoin now worth 48431181 Market Cap 9029...  \n",
       "2  One Bitcoin now worth 49633979 Market Cap 9254...  \n",
       "3  Larsens attorneys said the SEC failed to show ...  \n",
       "4  One Bitcoin now worth 49576571 Market Cap 9243...  "
      ]
     },
     "execution_count": 3,
     "metadata": {},
     "output_type": "execute_result"
    }
   ],
   "source": [
    "def remove_punctuation(dataset):\n",
    "    no_punct=\"\".join([c for c in dataset if c not in string.punctuation])\n",
    "    return no_punct\n",
    "dataset['Tweet_Text']=dataset['Tweet_Text'].apply(lambda x: remove_punctuation(x))\n",
    "dataset['User_ID']=dataset['User_ID'].apply(lambda x: remove_punctuation(x))\n",
    "\n",
    "dataset.head()"
   ]
  },
  {
   "cell_type": "markdown",
   "metadata": {},
   "source": [
    "### Remove Dupliacte tweets"
   ]
  },
  {
   "cell_type": "code",
   "execution_count": 6,
   "metadata": {},
   "outputs": [
    {
     "data": {
      "text/plain": [
       "(192, 4)"
      ]
     },
     "execution_count": 6,
     "metadata": {},
     "output_type": "execute_result"
    }
   ],
   "source": [
    "dataset.shape"
   ]
  },
  {
   "cell_type": "code",
   "execution_count": 7,
   "metadata": {},
   "outputs": [
    {
     "data": {
      "text/plain": [
       "0"
      ]
     },
     "execution_count": 7,
     "metadata": {},
     "output_type": "execute_result"
    }
   ],
   "source": [
    "dataset.Tweet_Text.duplicated().sum()"
   ]
  },
  {
   "cell_type": "markdown",
   "metadata": {},
   "source": [
    "### This file does not contain any duplicate tweets, so no need of remove duplicate funtion"
   ]
  },
  {
   "cell_type": "code",
   "execution_count": 8,
   "metadata": {},
   "outputs": [
    {
     "data": {
      "text/html": [
       "<div>\n",
       "<style scoped>\n",
       "    .dataframe tbody tr th:only-of-type {\n",
       "        vertical-align: middle;\n",
       "    }\n",
       "\n",
       "    .dataframe tbody tr th {\n",
       "        vertical-align: top;\n",
       "    }\n",
       "\n",
       "    .dataframe thead th {\n",
       "        text-align: right;\n",
       "    }\n",
       "</style>\n",
       "<table border=\"1\" class=\"dataframe\">\n",
       "  <thead>\n",
       "    <tr style=\"text-align: right;\">\n",
       "      <th></th>\n",
       "      <th>Tweet_ID</th>\n",
       "      <th>Time_of_Tweet</th>\n",
       "      <th>User_ID</th>\n",
       "      <th>Tweet_Text</th>\n",
       "    </tr>\n",
       "  </thead>\n",
       "  <tbody>\n",
       "  </tbody>\n",
       "</table>\n",
       "</div>"
      ],
      "text/plain": [
       "Empty DataFrame\n",
       "Columns: [Tweet_ID, Time_of_Tweet, User_ID, Tweet_Text]\n",
       "Index: []"
      ]
     },
     "execution_count": 8,
     "metadata": {},
     "output_type": "execute_result"
    }
   ],
   "source": [
    "dataset.loc[dataset.Tweet_Text.duplicated(keep='first'),:]"
   ]
  },
  {
   "cell_type": "markdown",
   "metadata": {},
   "source": [
    "### Remove Numbers from tweet texts"
   ]
  },
  {
   "cell_type": "code",
   "execution_count": 9,
   "metadata": {},
   "outputs": [
    {
     "data": {
      "text/html": [
       "<div>\n",
       "<style scoped>\n",
       "    .dataframe tbody tr th:only-of-type {\n",
       "        vertical-align: middle;\n",
       "    }\n",
       "\n",
       "    .dataframe tbody tr th {\n",
       "        vertical-align: top;\n",
       "    }\n",
       "\n",
       "    .dataframe thead th {\n",
       "        text-align: right;\n",
       "    }\n",
       "</style>\n",
       "<table border=\"1\" class=\"dataframe\">\n",
       "  <thead>\n",
       "    <tr style=\"text-align: right;\">\n",
       "      <th></th>\n",
       "      <th>Tweet_ID</th>\n",
       "      <th>Time_of_Tweet</th>\n",
       "      <th>User_ID</th>\n",
       "      <th>Tweet_Text</th>\n",
       "    </tr>\n",
       "  </thead>\n",
       "  <tbody>\n",
       "    <tr>\n",
       "      <th>0</th>\n",
       "      <td>1367565531176448003</td>\n",
       "      <td>2021-03-04 20:00:05</td>\n",
       "      <td>bBTCticker</td>\n",
       "      <td>One Bitcoin now worth  Market Cap  Billion Bas...</td>\n",
       "    </tr>\n",
       "    <tr>\n",
       "      <th>1</th>\n",
       "      <td>1367535327557152769</td>\n",
       "      <td>2021-03-04 18:00:04</td>\n",
       "      <td>bBTCticker</td>\n",
       "      <td>One Bitcoin now worth  Market Cap  Billion Bas...</td>\n",
       "    </tr>\n",
       "    <tr>\n",
       "      <th>2</th>\n",
       "      <td>1367505131349176321</td>\n",
       "      <td>2021-03-04 16:00:04</td>\n",
       "      <td>bBTCticker</td>\n",
       "      <td>One Bitcoin now worth  Market Cap  Billion Bas...</td>\n",
       "    </tr>\n",
       "    <tr>\n",
       "      <th>3</th>\n",
       "      <td>1367479922680164357</td>\n",
       "      <td>2021-03-04 14:19:54</td>\n",
       "      <td>bMarkCrypto23</td>\n",
       "      <td>Larsens attorneys said the SEC failed to show ...</td>\n",
       "    </tr>\n",
       "    <tr>\n",
       "      <th>4</th>\n",
       "      <td>1367474933593473024</td>\n",
       "      <td>2021-03-04 14:00:05</td>\n",
       "      <td>bBTCticker</td>\n",
       "      <td>One Bitcoin now worth  Market Cap  Billion Bas...</td>\n",
       "    </tr>\n",
       "  </tbody>\n",
       "</table>\n",
       "</div>"
      ],
      "text/plain": [
       "              Tweet_ID        Time_of_Tweet        User_ID  \\\n",
       "0  1367565531176448003  2021-03-04 20:00:05     bBTCticker   \n",
       "1  1367535327557152769  2021-03-04 18:00:04     bBTCticker   \n",
       "2  1367505131349176321  2021-03-04 16:00:04     bBTCticker   \n",
       "3  1367479922680164357  2021-03-04 14:19:54  bMarkCrypto23   \n",
       "4  1367474933593473024  2021-03-04 14:00:05     bBTCticker   \n",
       "\n",
       "                                          Tweet_Text  \n",
       "0  One Bitcoin now worth  Market Cap  Billion Bas...  \n",
       "1  One Bitcoin now worth  Market Cap  Billion Bas...  \n",
       "2  One Bitcoin now worth  Market Cap  Billion Bas...  \n",
       "3  Larsens attorneys said the SEC failed to show ...  \n",
       "4  One Bitcoin now worth  Market Cap  Billion Bas...  "
      ]
     },
     "execution_count": 9,
     "metadata": {},
     "output_type": "execute_result"
    }
   ],
   "source": [
    "string.digits\n",
    "def remove_digits(dataset):\n",
    "    no_digits=\"\".join([c for c in dataset if c not in string.digits])\n",
    "    return no_digits\n",
    "dataset['Tweet_Text']=dataset['Tweet_Text'].apply(lambda x: remove_digits(x))\n",
    "dataset.head()"
   ]
  },
  {
   "cell_type": "markdown",
   "metadata": {},
   "source": [
    "### Remove words less than 2 letters"
   ]
  },
  {
   "cell_type": "code",
   "execution_count": 10,
   "metadata": {},
   "outputs": [
    {
     "data": {
      "text/html": [
       "<div>\n",
       "<style scoped>\n",
       "    .dataframe tbody tr th:only-of-type {\n",
       "        vertical-align: middle;\n",
       "    }\n",
       "\n",
       "    .dataframe tbody tr th {\n",
       "        vertical-align: top;\n",
       "    }\n",
       "\n",
       "    .dataframe thead th {\n",
       "        text-align: right;\n",
       "    }\n",
       "</style>\n",
       "<table border=\"1\" class=\"dataframe\">\n",
       "  <thead>\n",
       "    <tr style=\"text-align: right;\">\n",
       "      <th></th>\n",
       "      <th>Tweet_ID</th>\n",
       "      <th>Time_of_Tweet</th>\n",
       "      <th>User_ID</th>\n",
       "      <th>Tweet_Text</th>\n",
       "    </tr>\n",
       "  </thead>\n",
       "  <tbody>\n",
       "    <tr>\n",
       "      <th>0</th>\n",
       "      <td>1367565531176448003</td>\n",
       "      <td>2021-03-04 20:00:05</td>\n",
       "      <td>bBTCticker</td>\n",
       "      <td>One Bitcoin now worth Market Cap Billion Based...</td>\n",
       "    </tr>\n",
       "    <tr>\n",
       "      <th>1</th>\n",
       "      <td>1367535327557152769</td>\n",
       "      <td>2021-03-04 18:00:04</td>\n",
       "      <td>bBTCticker</td>\n",
       "      <td>One Bitcoin now worth Market Cap Billion Based...</td>\n",
       "    </tr>\n",
       "    <tr>\n",
       "      <th>2</th>\n",
       "      <td>1367505131349176321</td>\n",
       "      <td>2021-03-04 16:00:04</td>\n",
       "      <td>bBTCticker</td>\n",
       "      <td>One Bitcoin now worth Market Cap Billion Based...</td>\n",
       "    </tr>\n",
       "    <tr>\n",
       "      <th>3</th>\n",
       "      <td>1367479922680164357</td>\n",
       "      <td>2021-03-04 14:19:54</td>\n",
       "      <td>bMarkCrypto23</td>\n",
       "      <td>Larsens attorneys said the SEC failed to show ...</td>\n",
       "    </tr>\n",
       "    <tr>\n",
       "      <th>4</th>\n",
       "      <td>1367474933593473024</td>\n",
       "      <td>2021-03-04 14:00:05</td>\n",
       "      <td>bBTCticker</td>\n",
       "      <td>One Bitcoin now worth Market Cap Billion Based...</td>\n",
       "    </tr>\n",
       "  </tbody>\n",
       "</table>\n",
       "</div>"
      ],
      "text/plain": [
       "              Tweet_ID        Time_of_Tweet        User_ID  \\\n",
       "0  1367565531176448003  2021-03-04 20:00:05     bBTCticker   \n",
       "1  1367535327557152769  2021-03-04 18:00:04     bBTCticker   \n",
       "2  1367505131349176321  2021-03-04 16:00:04     bBTCticker   \n",
       "3  1367479922680164357  2021-03-04 14:19:54  bMarkCrypto23   \n",
       "4  1367474933593473024  2021-03-04 14:00:05     bBTCticker   \n",
       "\n",
       "                                          Tweet_Text  \n",
       "0  One Bitcoin now worth Market Cap Billion Based...  \n",
       "1  One Bitcoin now worth Market Cap Billion Based...  \n",
       "2  One Bitcoin now worth Market Cap Billion Based...  \n",
       "3  Larsens attorneys said the SEC failed to show ...  \n",
       "4  One Bitcoin now worth Market Cap Billion Based...  "
      ]
     },
     "execution_count": 10,
     "metadata": {},
     "output_type": "execute_result"
    }
   ],
   "source": [
    "Tweet_body = dataset['Tweet_Text'].str.split()\n",
    "def remove_smallwords(Tweet_body):\n",
    "        txt_clean = ' '.join([word for word in Tweet_body if len(word)>1])\n",
    "        return txt_clean\n",
    "dataset['Tweet_Text'] = Tweet_body.apply(lambda x: remove_smallwords(x)) \n",
    "dataset.head()"
   ]
  },
  {
   "cell_type": "markdown",
   "metadata": {},
   "source": [
    "### Visualize number of tweets per day using a bar chart"
   ]
  },
  {
   "cell_type": "code",
   "execution_count": 5,
   "metadata": {},
   "outputs": [
    {
     "data": {
      "text/plain": [
       "(14, 25, 25, 17, 19, 27, 39, 26)"
      ]
     },
     "execution_count": 5,
     "metadata": {},
     "output_type": "execute_result"
    }
   ],
   "source": [
    "day_1 =sum(dataset['Time_of_Tweet'].str.count('2021-03-04'))\n",
    "day_2 =sum(dataset['Time_of_Tweet'].str.count('2021-03-03'))\n",
    "day_3 =sum(dataset['Time_of_Tweet'].str.count('2021-03-02'))\n",
    "day_4 =sum(dataset['Time_of_Tweet'].str.count('2021-03-01'))\n",
    "day_5 =sum(dataset['Time_of_Tweet'].str.count('2021-02-28'))\n",
    "day_6 =sum(dataset['Time_of_Tweet'].str.count('2021-02-27'))\n",
    "day_7 =sum(dataset['Time_of_Tweet'].str.count('2021-02-26'))\n",
    "day_8 =sum(dataset['Time_of_Tweet'].str.count('2021-02-25'))\n",
    "tweets_per_day=day_1,day_2,day_3,day_4,day_5,day_6,day_7,day_8\n",
    "tweets_per_day"
   ]
  },
  {
   "cell_type": "code",
   "execution_count": 11,
   "metadata": {},
   "outputs": [
    {
     "data": {
      "image/png": "[encoded data removed]",
      "text/plain": [
       "<Figure size 432x288 with 1 Axes>"
      ]
     },
     "metadata": {
      "needs_background": "light"
     },
     "output_type": "display_data"
    }
   ],
   "source": [
    "fig = plt.figure()\n",
    "ax = fig.add_axes([0,0,1,1])\n",
    "days = ['2021-03-04', '2021-03-03','2021-03-02','2021-03-01','2021-02-28','2021-02-27','2021-02-26','2021-02-25']\n",
    "plt.barh(days, tweets_per_day, align='center', alpha=0.5)\n",
    "plt.xlabel('Number of Tweets')\n",
    "plt.ylabel('Date')\n",
    "plt.title('Tweets Per Day On the hashgtag #Coindesk')\n",
    "plt.show()"
   ]
  },
  {
   "cell_type": "code",
   "execution_count": null,
   "metadata": {},
   "outputs": [],
   "source": []
  }
 ],
 "metadata": {
  "kernelspec": {
   "display_name": "Python 3",
   "language": "python",
   "name": "python3"
  },
  "language_info": {
   "codemirror_mode": {
    "name": "ipython",
    "version": 3
   },
   "file_extension": ".py",
   "mimetype": "text/x-python",
   "name": "python",
   "nbconvert_exporter": "python",
   "pygments_lexer": "ipython3",
   "version": "3.8.5"
  }
 },
 "nbformat": 4,
 "nbformat_minor": 4
}

{
 "cells": [
  {
   "cell_type": "markdown",
   "metadata": {},
   "source": [
    "# Tweet Scraping\n",
    "### This code will scrape all the tweets of given hashtag and store the tweet informations such as Tweet time, tweet id, user id and tweet text to a csv file   \n",
    "### Import libraries"
   ]
  },
  {
   "cell_type": "code",
   "execution_count": null,
   "metadata": {},
   "outputs": [],
   "source": [
    "import json\n",
    "import csv\n",
    "import tweepy\n",
    "import re"
   ]
  },
  {
   "cell_type": "markdown",
   "metadata": {},
   "source": [
    "### Collect data from twitter and save to a csv"
   ]
  },
  {
   "cell_type": "code",
   "execution_count": null,
   "metadata": {},
   "outputs": [],
   "source": [
    "user_key = input('Enter The User Key ')\n",
    "user_secret = input('Enter The User Secret ')\n",
    "access_token = input('Enter The Access Token ')\n",
    "access_token_secret = input('Enter The Access Token Secret ')\n",
    "\n",
    "hashtag_phrase = input('What hashtag are you interested in ?')\n",
    "\n",
    "def search_for_hashtags(user_key, user_secret,access_token, access_token_secret, hashtag_phrase):\n",
    "    \n",
    "    authenticate = tweepy.OAuthHandler(user_key, user_secret)\n",
    "    authenticate.set_access_token(access_token, access_token_secret)\n",
    "    \n",
    "    api = tweepy.API(authenticate)\n",
    "    \n",
    "    Tweets_data = '_'.join(re.findall(r\"#(\\w+)\", hashtag_phrase))\n",
    "    \n",
    "    with open('%s.csv' % (Tweets_data), 'w', encoding= 'utf8') as file:\n",
    "        write = csv.writer(file)\n",
    "        write.writerow(['Tweet_ID', 'Time_of_Tweet', 'User_ID', 'Tweet_Text'])\n",
    "        for tweet in tweepy.Cursor(api.search, q =hashtag_phrase + ' -filter:retweets', \\\n",
    "                                   tweet_mode='extended').items(1000):\n",
    "            write.writerow([tweet.id_str, tweet.created_at,\n",
    "                        tweet.user.screen_name.encode('utf-8'),\n",
    "                       tweet.full_text.replace('\\n', ' ')])\n",
    "\n",
    "if __name__ == '__main__':\n",
    "     search_for_hashtags(user_key, user_secret, access_token, access_token_secret, hashtag_phrase)"
   ]
  },
  {
   "cell_type": "code",
   "execution_count": null,
   "metadata": {},
   "outputs": [],
   "source": []
  }
 ],
 "metadata": {
  "kernelspec": {
   "display_name": "Python 3",
   "language": "python",
   "name": "python3"
  }
 },
 "nbformat": 4,
 "nbformat_minor": 4
}
